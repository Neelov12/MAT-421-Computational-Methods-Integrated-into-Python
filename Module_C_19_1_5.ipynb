{
  "nbformat": 4,
  "nbformat_minor": 0,
  "metadata": {
    "colab": {
      "provenance": [],
      "authorship_tag": "ABX9TyPSABOkFVr39crUXz9wZzMj",
      "include_colab_link": true
    },
    "kernelspec": {
      "name": "python3",
      "display_name": "Python 3"
    },
    "language_info": {
      "name": "python"
    }
  },
  "cells": [
    {
      "cell_type": "markdown",
      "metadata": {
        "id": "view-in-github",
        "colab_type": "text"
      },
      "source": [
        "<a href=\"https://colab.research.google.com/github/Neelov12/MAT-421-Computational-Methods-Integrated-into-Python/blob/main/Module_C_19_1_5.ipynb\" target=\"_parent\"><img src=\"https://colab.research.google.com/assets/colab-badge.svg\" alt=\"Open In Colab\"/></a>"
      ]
    },
    {
      "cell_type": "markdown",
      "source": [
        "# Section 19.1, 19,2, 19.3, 19.4 19.5"
      ],
      "metadata": {
        "id": "s_q9pmwDkMAJ"
      }
    },
    {
      "cell_type": "markdown",
      "source": [
        "# 19.1: Roots of a function"
      ],
      "metadata": {
        "id": "Wx5GbcnrkPCI"
      }
    },
    {
      "cell_type": "markdown",
      "source": [
        "The roots or zero of a function can be determined by evaluating some $x_r$ of $f(x)$ where $f(x_r) = 0$"
      ],
      "metadata": {
        "id": "97cVOsq0lKyH"
      }
    },
    {
      "cell_type": "markdown",
      "source": [
        "Here is a program using the python library 'scipy' to approximate the roots of a generally more difficult equation to approximate:\n",
        "\n",
        "$$\n",
        "sin(x) - x^2\n",
        "$$"
      ],
      "metadata": {
        "id": "jXptm_a_lgOi"
      }
    },
    {
      "cell_type": "code",
      "execution_count": 3,
      "metadata": {
        "colab": {
          "base_uri": "https://localhost:8080/"
        },
        "id": "95Uq5y8Vj9_-",
        "outputId": "1062178f-2f34-42bd-fee9-c3840e69bd48"
      },
      "outputs": [
        {
          "output_type": "stream",
          "name": "stdout",
          "text": [
            "r = [0.87672622]\n",
            "result= [0.]\n"
          ]
        }
      ],
      "source": [
        "import numpy as np\n",
        "from scipy import optimize\n",
        "\n",
        "f = lambda x: np.sin(x) - x*x\n",
        "r = optimize.fsolve(f, 1)\n",
        "print(\"r =\", r)\n",
        "\n",
        "# Verify the solution is a root\n",
        "result = f(r)\n",
        "print(\"result=\", result)"
      ]
    },
    {
      "cell_type": "markdown",
      "source": [
        "## 19.2: Tolerance"
      ],
      "metadata": {
        "id": "fdlUeYdbmqVA"
      }
    },
    {
      "cell_type": "markdown",
      "source": [
        "Tolerance is an evaluative measure of approximation, where if an estimate converges to a point at or below a desired level of tolerance, a root can exist. This is often denoted as:\n",
        "$$\n",
        "|𝑓(𝑥)|\n",
        "$$"
      ],
      "metadata": {
        "id": "_rk-cMlrmvG-"
      }
    },
    {
      "cell_type": "markdown",
      "source": [
        "To demonstrate this concept, I will show that $\\frac{1}{x}$ *technically* has a root"
      ],
      "metadata": {
        "id": "MfTX4bktnmZq"
      }
    },
    {
      "cell_type": "markdown",
      "source": [
        "Using a tolerance of $2 * 10^{-10}$, $\\frac{1}{x}$ has a root at r:"
      ],
      "metadata": {
        "id": "nQAxAsjmoK53"
      }
    },
    {
      "cell_type": "code",
      "source": [
        "f = lambda x: 1/x\n",
        "\n",
        "r, infodict, ier, mesg = optimize.fsolve(f, -2, full_output=True)\n",
        "print(\"r =\", r)\n",
        "\n",
        "result = f(r)\n",
        "print(\"result=\", result)\n",
        "\n",
        "print(mesg)\n",
        "\n",
        "tol = 2 * (10 ** -10)\n",
        "if(result < tol):\n",
        "    print(\"Successful root approximation at\", result)\n",
        "else:\n",
        "    print(\"fail\")"
      ],
      "metadata": {
        "colab": {
          "base_uri": "https://localhost:8080/"
        },
        "id": "-8k0Fgagn4F_",
        "outputId": "3afc19d5-1251-41a5-b3ae-97a31d181c1d"
      },
      "execution_count": 4,
      "outputs": [
        {
          "output_type": "stream",
          "name": "stdout",
          "text": [
            "r = [-3.52047359e+83]\n",
            "result= [-2.84052692e-84]\n",
            "The number of calls to function has reached maxfev = 400.\n",
            "Successful root approximation at [-2.84052692e-84]\n"
          ]
        }
      ]
    },
    {
      "cell_type": "markdown",
      "source": [
        "## 19.3: Bisection Method"
      ],
      "metadata": {
        "id": "Vni0ZJgMpQVb"
      }
    },
    {
      "cell_type": "markdown",
      "source": [
        "The Bisection method is a root-finding algorithm that repeatedly applies the Intermediate Value Theorem.  It starts with a continuous function $f(x)$ and an interval $(a, b)$ where $f(a)$ and $f(b)$ have opposite signs (e.g., $f(a) > 0$ and $f(b) < 0$).  The Intermediate Value Theorem guarantees at least one root within this interval.\n",
        "\n",
        "The method then calculates the midpoint $m = \\frac{(a + b)}{2}$.  If $f(m)$ is zero (or very close), then m is a root. Otherwise, the interval is halved. If $f(m)$ has the same sign as $f(a)$, the new interval becomes $(m, b)$. If $f(m)$ has the same sign as $f(b)$, the new interval becomes (a, m). This process is repeated, narrowing the interval until the root is found to the desired accuracy."
      ],
      "metadata": {
        "id": "8Ex1cZBppWEk"
      }
    },
    {
      "cell_type": "markdown",
      "source": [
        "The following program approximates the root of\n",
        "$$\n",
        "-x^2 + 6\n",
        "$$\n",
        "where\n",
        "$$\n",
        "0 < x < 4\n",
        "$$\n",
        "using the Bisection method"
      ],
      "metadata": {
        "id": "c1wjimRcruhZ"
      }
    },
    {
      "cell_type": "markdown",
      "source": [
        "Define the function"
      ],
      "metadata": {
        "id": "B7v-1GqQsZjF"
      }
    },
    {
      "cell_type": "code",
      "source": [
        "# Define the function f(x) = -x^2 + 6\n",
        "def f(x):\n",
        "    return -x**2 + 6"
      ],
      "metadata": {
        "id": "KHygt3EzsZP2"
      },
      "execution_count": 5,
      "outputs": []
    },
    {
      "cell_type": "markdown",
      "source": [
        "Bisection method function"
      ],
      "metadata": {
        "id": "IE2HXBdEsfnH"
      }
    },
    {
      "cell_type": "code",
      "source": [
        "# Bisection method implementation\n",
        "def bisection_method(a, b, tol=1e-5, max_iter=100):\n",
        "    iter_count = 0\n",
        "    while (b - a) / 2 > tol:\n",
        "        m = (a + b) / 2\n",
        "        f_m = f(m)\n",
        "\n",
        "        # Print m and f(m) for every other step\n",
        "        if iter_count % 2 == 0:\n",
        "            print(f\"Step {iter_count}: m = {m}, f(m) = {f_m}\")\n",
        "\n",
        "        if f_m == 0:  # Root found\n",
        "            print(f\"Exact root found: m = {m}, f(m) = {f_m}\")\n",
        "            return m\n",
        "\n",
        "        # Update the interval\n",
        "        if f_m * f(a) < 0:  # Root lies between a and m\n",
        "            b = m\n",
        "        else:  # Root lies between m and b\n",
        "            a = m\n",
        "\n",
        "        iter_count += 1\n",
        "        if iter_count >= max_iter:\n",
        "            print(\"Max iterations reached.\")\n",
        "            break\n",
        "\n",
        "    # Return the best approximation to the root\n",
        "    m = (a + b) / 2\n",
        "    print(f\"Approximate root: m = {m}, f(m) = {f(m)}\")\n",
        "    return m\n",
        "\n",
        "# Interval [0, 4]\n",
        "a = 0\n",
        "b = 4"
      ],
      "metadata": {
        "id": "2Q5Soj2vspPO"
      },
      "execution_count": 6,
      "outputs": []
    },
    {
      "cell_type": "markdown",
      "source": [
        "Call to bisection method for the function, prints every other step of the approximation"
      ],
      "metadata": {
        "id": "sMx_JnjLsqQ2"
      }
    },
    {
      "cell_type": "code",
      "source": [
        "# Call the bisection method\n",
        "root = bisection_method(a, b)"
      ],
      "metadata": {
        "colab": {
          "base_uri": "https://localhost:8080/"
        },
        "id": "MCrV_xTnsu9I",
        "outputId": "0a7f91ec-67fa-43f8-8a5c-7988012b7133"
      },
      "execution_count": 7,
      "outputs": [
        {
          "output_type": "stream",
          "name": "stdout",
          "text": [
            "Step 0: m = 2.0, f(m) = 2.0\n",
            "Step 2: m = 2.5, f(m) = -0.25\n",
            "Step 4: m = 2.375, f(m) = 0.359375\n",
            "Step 6: m = 2.46875, f(m) = -0.0947265625\n",
            "Step 8: m = 2.4453125, f(m) = 0.02044677734375\n",
            "Step 10: m = 2.451171875, f(m) = -0.008243560791015625\n",
            "Step 12: m = 2.44970703125, f(m) = -0.0010645389556884766\n",
            "Step 14: m = 2.4495849609375, f(m) = -0.0004664808511734009\n",
            "Step 16: m = 2.449493408203125, f(m) = -1.795683056116104e-05\n",
            "Approximate root: m = 2.4494857788085938, f(m) = 1.9419414456933737e-05\n"
          ]
        }
      ]
    },
    {
      "cell_type": "markdown",
      "source": [
        "## 19.4: Newton-Raphson Method"
      ],
      "metadata": {
        "id": "pcnyyg9dtN8N"
      }
    },
    {
      "cell_type": "markdown",
      "source": [
        "The **Newton-Raphson Method** for comuting roots involved selecting an initial estimate for a root of an equation, and computing a new root based on a linear approximation, and iterating the steps until the solution is at or below the tolerance. The equation is given by\n",
        "<bv>\n",
        "\n",
        "$$\n",
        "0=𝑓(𝑥_0)+𝑓′(𝑥_0)(𝑥_1−𝑥_0)\n",
        "$$\n",
        "where, when resolved for $x_1$,\n",
        "$$\n",
        "𝑥_1=𝑥_0−\\frac{𝑓(𝑥_0)}{𝑓′(𝑥_0)}\n",
        "$$"
      ],
      "metadata": {
        "id": "xjtDPZcgdH5X"
      }
    },
    {
      "cell_type": "markdown",
      "source": [
        "The following program demonstrates this concept on the equation $f(x) = x^2 - 2$, where the root is the square root of 2"
      ],
      "metadata": {
        "id": "n0DXfWrpeHHA"
      }
    },
    {
      "cell_type": "code",
      "source": [
        "f = lambda x: x**2 - 2\n",
        "f_prime = lambda x: 2*x\n",
        "newton_raphson = 1.4 - (f(1.4))/(f_prime(1.4))\n",
        "\n",
        "print(\"newton_raphson =\", newton_raphson)\n",
        "print(\"sqrt(2) =\", np.sqrt(2))"
      ],
      "metadata": {
        "colab": {
          "base_uri": "https://localhost:8080/"
        },
        "id": "UbfXACtGeGcz",
        "outputId": "3e86111f-4e40-43b3-da3d-4d24684e588a"
      },
      "execution_count": 9,
      "outputs": [
        {
          "output_type": "stream",
          "name": "stdout",
          "text": [
            "newton_raphson = 1.4142857142857144\n",
            "sqrt(2) = 1.4142135623730951\n"
          ]
        }
      ]
    },
    {
      "cell_type": "markdown",
      "source": [
        "Taking it a step further, we can use this method to find the root of a more complicated equation, say\n",
        "\n",
        "$$f(x) = 3x^{4}+2x^{3}+2x^{2}+5x-3$$\n",
        "\n",
        "First, let's create a function for finding the Newton-Raphson estimate:"
      ],
      "metadata": {
        "id": "2Xa7nq0ge8xH"
      }
    },
    {
      "cell_type": "code",
      "source": [
        "def my_newton(f, df, x0, tol):\n",
        "    # output is an estimation of the root of f\n",
        "    # using the Newton Raphson method\n",
        "    # recursive implementation\n",
        "    if abs(f(x0)) < tol:\n",
        "        return x0\n",
        "    else:\n",
        "        return my_newton(f, df, x0 - f(x0)/df(x0), tol)"
      ],
      "metadata": {
        "id": "HUUAfY_Tfo5V"
      },
      "execution_count": 10,
      "outputs": []
    },
    {
      "cell_type": "markdown",
      "source": [
        "Define\n",
        "$$f(x) = 3x^{4}+2x^{3}+2x^{2}+5x-3$$\n",
        "$$f'(x) = 12x^{3}+6x^{2}+4x+5$$\n",
        "in python"
      ],
      "metadata": {
        "id": "ZtIr9MYYfsFh"
      }
    },
    {
      "cell_type": "code",
      "source": [
        "f = lambda x: 3*x**4 - 2*x**3 - 2*x**2 + 5*x - 3\n",
        "f_prime = lambda x: 12*x**3 + 6*x**2 + 4*x + 5"
      ],
      "metadata": {
        "id": "p2luY4-PgJWa"
      },
      "execution_count": 15,
      "outputs": []
    },
    {
      "cell_type": "markdown",
      "source": [
        "Compute the Newtom-Rapshon estimate"
      ],
      "metadata": {
        "id": "A0t3ztOmgooB"
      }
    },
    {
      "cell_type": "code",
      "source": [
        "newton_raphson = my_newton(f, f_prime, 1, 1e-6)\n",
        "print(\"newton_raphson =\", newton_raphson)"
      ],
      "metadata": {
        "colab": {
          "base_uri": "https://localhost:8080/"
        },
        "id": "nrXCRjbrg_HF",
        "outputId": "9653ddbf-ae7a-4aa7-d3e8-46737284cc2b"
      },
      "execution_count": 12,
      "outputs": [
        {
          "output_type": "stream",
          "name": "stdout",
          "text": [
            "newton_raphson = 0.8179427530709084\n"
          ]
        }
      ]
    },
    {
      "cell_type": "markdown",
      "source": [
        "A plot of the equation shows the calculated root and the true root"
      ],
      "metadata": {
        "id": "Od1riDQ6iUwh"
      }
    },
    {
      "cell_type": "code",
      "source": [
        "import numpy as np\n",
        "import matplotlib.pyplot as plt\n",
        "\n",
        "# Define the function f(x)\n",
        "f = lambda x: 3*x**4 - 2*x**3 - 2*x**2 + 5*x - 3\n",
        "\n",
        "# Create an array of x values for plotting\n",
        "x = np.linspace(-2, 2, 400)\n",
        "\n",
        "# Calculate the corresponding y values\n",
        "y = f(x)\n",
        "\n",
        "# Create the plot\n",
        "plt.figure(figsize=(8, 6))\n",
        "plt.plot(x, y, label=r'$f(x) = 3x^4 - 2x^3 - 2x^2 + 5x - 3$', color='blue')\n",
        "plt.axhline(0, color='black',linewidth=1)\n",
        "plt.axvline(0, color='black',linewidth=1)\n",
        "plt.title(\"Graph of f(x)\")\n",
        "plt.xlabel(\"x\")\n",
        "plt.ylabel(\"f(x)\")\n",
        "\n",
        "# Zoom in around the root (adjust as necessary based on root estimates)\n",
        "plt.xlim(-1.5, 1.5)  # X-axis zoomed in around the root\n",
        "plt.ylim(-5, 5)      # Y-axis range\n",
        "\n",
        "# Show grid\n",
        "plt.grid(True)\n",
        "\n",
        "# Display the plot\n",
        "plt.legend()\n",
        "plt.show()"
      ],
      "metadata": {
        "colab": {
          "base_uri": "https://localhost:8080/",
          "height": 564
        },
        "id": "J-py18wZiOkV",
        "outputId": "a9c9de90-6db4-42b7-d1b7-8676276a25fd"
      },
      "execution_count": 13,
      "outputs": [
        {
          "output_type": "display_data",
          "data": {
            "text/plain": [
              "<Figure size 800x600 with 1 Axes>"
            ],
            "image/png": "[encoded data removed]"
          },
          "metadata": {}
        }
      ]
    },
    {
      "cell_type": "markdown",
      "source": [
        "## 19.5: Root Finding in Python"
      ],
      "metadata": {
        "id": "AiYy9tJbib63"
      }
    },
    {
      "cell_type": "markdown",
      "source": [
        "Python has the existing root-finding functions for us to use to make things easy. The function to find the root is f_solve from the scipy.optimize."
      ],
      "metadata": {
        "id": "pEsV6LYXirZa"
      }
    },
    {
      "cell_type": "markdown",
      "source": [
        "Let's find the root of the equation from the previous section using this method.\n",
        "\n",
        "$$f(x) = 3x^{4}+2x^{3}+2x^{2}+5x-3$$"
      ],
      "metadata": {
        "id": "fkfaXtsejZSz"
      }
    },
    {
      "cell_type": "markdown",
      "source": [
        "Import needed:"
      ],
      "metadata": {
        "id": "zqBq_AuRjqUA"
      }
    },
    {
      "cell_type": "code",
      "source": [
        "from scipy.optimize import fsolve"
      ],
      "metadata": {
        "id": "n_uT0pK3jWrO"
      },
      "execution_count": 14,
      "outputs": []
    },
    {
      "cell_type": "code",
      "source": [
        "f = lambda x: 3*x**4 - 2*x**3 - 2*x**2 + 5*x - 3\n",
        "\n",
        "fsolve(f, [-2, 1])"
      ],
      "metadata": {
        "colab": {
          "base_uri": "https://localhost:8080/"
        },
        "id": "xsW4hgO1j1uu",
        "outputId": "8aeeb078-ea3a-4aea-b894-4fd6a3e36243"
      },
      "execution_count": 17,
      "outputs": [
        {
          "output_type": "execute_result",
          "data": {
            "text/plain": [
              "array([-1.29685762,  0.81794256])"
            ]
          },
          "metadata": {},
          "execution_count": 17
        }
      ]
    },
    {
      "cell_type": "markdown",
      "source": [
        "This method computes $0.81794256$, whereas the previous method computes $0.8179427530709084$\n",
        "Notice that this solution computes both roots instead of the positive one in the previous section."
      ],
      "metadata": {
        "id": "5XMmIOU5kQc4"
      }
    }
  ]
}