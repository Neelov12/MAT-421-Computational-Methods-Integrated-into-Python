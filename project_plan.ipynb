{
  "nbformat": 4,
  "nbformat_minor": 0,
  "metadata": {
    "colab": {
      "provenance": [],
      "authorship_tag": "ABX9TyM2AIkPgiSxsEPFBFixwSju",
      "include_colab_link": true
    },
    "kernelspec": {
      "name": "python3",
      "display_name": "Python 3"
    },
    "language_info": {
      "name": "python"
    }
  },
  "cells": [
    {
      "cell_type": "markdown",
      "metadata": {
        "id": "view-in-github",
        "colab_type": "text"
      },
      "source": [
        "<a href=\"https://colab.research.google.com/github/Neelov12/MAT-421-Computational-Methods-Integrated-into-Python/blob/main/project_plan.ipynb\" target=\"_parent\"><img src=\"https://colab.research.google.com/assets/colab-badge.svg\" alt=\"Open In Colab\"/></a>"
      ]
    },
    {
      "cell_type": "markdown",
      "source": [
        "# Estimating Auto Insurance Rates using Neural Networks and Regression"
      ],
      "metadata": {
        "id": "6K_2Tw8ANKPg"
      }
    },
    {
      "cell_type": "markdown",
      "source": [
        "Authored by Neelov Alam"
      ],
      "metadata": {
        "id": "saxJePewNPdx"
      }
    },
    {
      "cell_type": "markdown",
      "source": [
        "## Introduction"
      ],
      "metadata": {
        "id": "7wMhvnipNYVM"
      }
    },
    {
      "cell_type": "markdown",
      "source": [
        "For insurance companies, setting premiums is a tedious task. A company must anticipate costs to insure a prospective customer by weighing a number of factors associated with said customer against existing customers, while setting a price that earns their business. This can be a tedious task as insurance companies are risking millions of dollars to insure clients that may require more coverage than they pay.\n",
        "<bv>\n",
        "\n",
        "However, for customers themselves, choosing an insurance plan is also a stressful task. Prospective insurance buyers risk spending thousands of dollars of their hard-earned money for coverage they may not need. Extensive research and internal, non-publicly disclosed machine learning algorithms already exist for insurance companies to set premiums. However, not as many algorithms exist for consumers to estimate the cost of insurance and select a plan that works best for them.\n",
        "\n",
        "<bv>\n",
        "\n",
        "Such development is important not only for consumers, but also for insurance companies, as providing such tools for public use would allow their customers to select a plan that meets their budget and their insurance needs, catering a sense of customer experience that currently rivals most other insurance companies.\n",
        "\n",
        "<bv>\n",
        "\n",
        "This project intends to create such an algorithm that predicts premiums based on a customer profile, shows users how their rates would change if they adjust their plan, and discloses reasons why their insurance rate looks the way it does, allowing them to simulate new prices based on different factors (such as 1 year without a claim), helping them improve their rate. For the purposes of this project, the developed algorithms are exclusively optimized for automobile insurance for cars, motorcycles, vans, and agricultural vehicles.\n"
      ],
      "metadata": {
        "id": "FEuEZ3p4NbZw"
      }
    },
    {
      "cell_type": "markdown",
      "source": [
        "## Related Work"
      ],
      "metadata": {
        "id": "SmrQBDsONtSW"
      }
    },
    {
      "cell_type": "markdown",
      "source": [
        "Prediction of Car Insurance Claims by Xi Zhang and Lianjie Shan\n",
        "(https://github.com/xzhangfox/Prediction-of-Car-Insurance-Claims)\n",
        "\n",
        "<bv>\n",
        "\n",
        "This project uses SVM and Multilayer Perception (MLP) to predict premiums based on a variety of factors attributed to a prospective insurance buyer. This project is particularly useful as a source of reference as it uses neural network models which aggregate unclear, unsupervised data to known data points, enabling accurate prediction.\n"
      ],
      "metadata": {
        "id": "UMy0DiyYNwn1"
      }
    },
    {
      "cell_type": "markdown",
      "source": [
        "Progressive: The Name Your Price® tool\n",
        "(https://www.progressive.com/auto/discounts/name-your-price/)\n",
        "\n",
        "<bv>\n",
        "\n",
        "While no source code is publicly available for this work, it is the best real product which facilitates most of the goals of this project."
      ],
      "metadata": {
        "id": "napP_ddaN2oL"
      }
    },
    {
      "cell_type": "markdown",
      "source": [
        "## Proposed Methodology"
      ],
      "metadata": {
        "id": "x2iE4-2RN9xR"
      }
    },
    {
      "cell_type": "markdown",
      "source": [
        "This project will work on the dataset: “Dataset of an actual motor vehicle insurance portfolio” by Josep Lledó and Jose M. Pavía (https://data.mendeley.com/datasets/5cxyb5fp4f/2).\n",
        "\n",
        "<bv>\n",
        "\n",
        "It is challenging to find data relating to price setting, as most insurance companies do not publicly disclose databases they use for this purpose. The most comprehensive and complete dataset, while also being free and open to download, that I found is the dataset compiled by Lledó and Pavía, which has 30 different factors. There are some drawbacks to this dataset, though, as it relates to this project: it is based on Spanish insurance companies, which set different prices than American companies and use slightly different metrics to predict prices (ei. The dataset has no mention of gender, while American insurance companies are known to set different premiums based on gender). However, the underlying goal of all insurance companies is to set prices that maximize profitability while minimizing risk, making this dataset, especially in consideration of its comprehensiveness, an adequate dataset for this project’s intents and purposes.\n",
        "\n",
        "<bv>\n",
        "\n",
        "This project will use the Artificial Neural Network model Multilayer Perceptron (MLP) and linear regression. MLP is particularly useful for this project since it handles a diverse range of input from the user which may, and most likely will be unlabelled since American insurance plans operate in a different system from Spanish insurance companies. Therefore, an accurate classification model must be used for this project. Once data is classified into known factors, regression techniques such as linear regression will then predict an insurance rate based on the known data.\n"
      ],
      "metadata": {
        "id": "yT6wgSVSOCnu"
      }
    },
    {
      "cell_type": "markdown",
      "source": [
        "## Experimental Setup"
      ],
      "metadata": {
        "id": "eB9x8zRHOLzS"
      }
    },
    {
      "cell_type": "markdown",
      "source": [
        "The MLP model must be trained to ensure accurate results. Training benchmarks and progressions are all recorded, and results and charts demonstrating progression will be published."
      ],
      "metadata": {
        "id": "JhjWt5OzOOFR"
      }
    },
    {
      "cell_type": "markdown",
      "source": [
        "## Expected Results\n"
      ],
      "metadata": {
        "id": "Nji1xz4COQU3"
      }
    },
    {
      "cell_type": "markdown",
      "source": [
        "The anticipated result for this project is a fully functioning MLP and linear regression machine learning algorithm that optimized for some user interface (for demonstration purposes), takes as input a customer profile and a list of insurance plan configurations based on American insurance company standards, and returns an accurate estimated price. Users will have the chance to change configurations and their own information (for simulation purposes), and it is expected that the model will return results that reflect real insurance prices based on real customer attributes."
      ],
      "metadata": {
        "id": "2k3NH0IgOUFG"
      }
    }
  ]
}