{
  "nbformat": 4,
  "nbformat_minor": 0,
  "metadata": {
    "colab": {
      "provenance": [],
      "toc_visible": true,
      "authorship_tag": "ABX9TyMxJT9DIeHG+rkY2ZQBcdca",
      "include_colab_link": true
    },
    "kernelspec": {
      "name": "python3",
      "display_name": "Python 3"
    },
    "language_info": {
      "name": "python"
    }
  },
  "cells": [
    {
      "cell_type": "markdown",
      "metadata": {
        "id": "view-in-github",
        "colab_type": "text"
      },
      "source": [
        "<a href=\"https://colab.research.google.com/github/Neelov12/MAT-421-Computational-Methods-Integrated-into-Python/blob/main/Module_D_1_1_3.ipynb\" target=\"_parent\"><img src=\"https://colab.research.google.com/assets/colab-badge.svg\" alt=\"Open In Colab\"/></a>"
      ]
    },
    {
      "cell_type": "markdown",
      "source": [
        "# Module D: 1.1, 1.2, 1.3"
      ],
      "metadata": {
        "id": "NE0SQyjnwW2i"
      }
    },
    {
      "cell_type": "markdown",
      "source": [
        "## 1.1: Introduction (Linear Independence)"
      ],
      "metadata": {
        "id": "dNLgh-0dwbKV"
      }
    },
    {
      "cell_type": "markdown",
      "source": [
        "In this section, I will use a python program to demonstrate the concept of Linear Independence, a fundamental theorum in the area of Linear Spaces"
      ],
      "metadata": {
        "id": "k968lsjqxPkx"
      }
    },
    {
      "cell_type": "markdown",
      "source": [
        "An overview of the concept:"
      ],
      "metadata": {
        "id": "Ihqqo-Bqyj4q"
      }
    },
    {
      "cell_type": "markdown",
      "source": [
        "**Definition 1.2.5 (Linear Independence)** A list of vectors $u_1$, ... , $u_m$ is linearly independent if none of them can be written as a linear combination of the\n",
        "others, that is,\n",
        "\n",
        "$$\n",
        "∀ i, u_i ∉ span(\\{u_j : j ≠ i\\}).\n",
        "$$\n",
        "\n",
        "A list of vectors is called linearly dependent if it is not linearly independent. (Sourced from textbook)"
      ],
      "metadata": {
        "id": "fp48rfZhymqz"
      }
    },
    {
      "cell_type": "markdown",
      "source": [
        "In other words, A set of vectors $\\{v_1, v_2, ... , v_n\\}$ in some vector space $V$ is linearly independent if the only solution to the equation\n",
        "\n",
        "$$\n",
        "c_1v_1 + c_2v_2 + , .... , c_nv_n = 0\n",
        "$$\n",
        "\n",
        "is when all scalars $\\{c_1, c_2, ... , c_n\\}$ are equivalent to 0."
      ],
      "metadata": {
        "id": "qcIlp6EIz-FC"
      }
    },
    {
      "cell_type": "markdown",
      "source": [
        "To demonstrate this concept, suppose we have two set of vectors:\n",
        "\n",
        "$$\n",
        "[[1,0], [0,1]]\n",
        "$$\n",
        "$$\n",
        "[[2,3], [4,6]]\n",
        "$$\n",
        "\n",
        "The following program will distinguish for each set if it is independent or not."
      ],
      "metadata": {
        "id": "t9CeEbO52GsC"
      }
    },
    {
      "cell_type": "markdown",
      "source": [
        "Imports"
      ],
      "metadata": {
        "id": "nJfNSwZM2ikH"
      }
    },
    {
      "cell_type": "code",
      "execution_count": 1,
      "metadata": {
        "id": "AadATRXIwGYK"
      },
      "outputs": [],
      "source": [
        "import numpy as np"
      ]
    },
    {
      "cell_type": "markdown",
      "source": [
        "Function for determining linear independence"
      ],
      "metadata": {
        "id": "MwUUM9g82oZH"
      }
    },
    {
      "cell_type": "code",
      "source": [
        "def check_linear_independence(vectors):\n",
        "    matrix = np.array(vectors).T  # Transpose to make columns as vectors\n",
        "    rank = np.linalg.matrix_rank(matrix)\n",
        "    num_vectors = len(vectors)\n",
        "\n",
        "    if rank == num_vectors:\n",
        "        print(\"The vectors are linearly independent.\")\n",
        "    else:\n",
        "        print(\"The vectors are linearly dependent.\")\n",
        "\n",
        "# Example 1: Linearly Independent Vectors (2D case)\n",
        "independent_vectors = [\n",
        "    [1, 0],\n",
        "    [0, 1]\n",
        "]\n",
        "print(\"Checking linearly independent vectors:\")\n",
        "check_linear_independence(independent_vectors)\n",
        "print()"
      ],
      "metadata": {
        "colab": {
          "base_uri": "https://localhost:8080/"
        },
        "id": "zo1PCAAA2sLK",
        "outputId": "a671c087-01b1-4821-860d-42df78fe38d6"
      },
      "execution_count": 4,
      "outputs": [
        {
          "output_type": "stream",
          "name": "stdout",
          "text": [
            "Checking linearly independent vectors:\n",
            "The vectors are linearly independent.\n",
            "\n"
          ]
        }
      ]
    },
    {
      "cell_type": "markdown",
      "source": [
        "Determing independence of   $$ [[1,0], [0,1]] $$\n",
        "\n",
        "\n"
      ],
      "metadata": {
        "id": "sUzqBNbb20sL"
      }
    },
    {
      "cell_type": "code",
      "source": [
        "# Example 1: Linearly Independent Vectors (2D case)\n",
        "independent_vectors = [\n",
        "    [1, 0],\n",
        "    [0, 1]\n",
        "]\n",
        "print(\"Checking linearly independent vectors:\")\n",
        "check_linear_independence(independent_vectors)\n",
        "print()"
      ],
      "metadata": {
        "colab": {
          "base_uri": "https://localhost:8080/"
        },
        "id": "z-zC4zXs3KyM",
        "outputId": "4f6089c1-7212-4e66-9c66-bc9dbff131f4"
      },
      "execution_count": 3,
      "outputs": [
        {
          "output_type": "stream",
          "name": "stdout",
          "text": [
            "Checking linearly independent vectors:\n",
            "The vectors are linearly independent.\n",
            "\n"
          ]
        }
      ]
    },
    {
      "cell_type": "markdown",
      "source": [
        "Determining independence of\n",
        "$$\n",
        "[[2,3], [4,6]]\n",
        "$$"
      ],
      "metadata": {
        "id": "tToUynX53Obl"
      }
    },
    {
      "cell_type": "code",
      "source": [
        "# Example 2: Linearly Dependent Vectors (2D case)\n",
        "dependent_vectors = [\n",
        "    [2, 3],\n",
        "    [4, 6]\n",
        "]\n",
        "print(\"Checking linearly dependent vectors:\")\n",
        "check_linear_independence(dependent_vectors)"
      ],
      "metadata": {
        "colab": {
          "base_uri": "https://localhost:8080/"
        },
        "id": "i3YJnykX3Vwr",
        "outputId": "fa67f0d6-e7b7-4fdf-8054-63c690665b6b"
      },
      "execution_count": 5,
      "outputs": [
        {
          "output_type": "stream",
          "name": "stdout",
          "text": [
            "Checking linearly dependent vectors:\n",
            "The vectors are linearly dependent.\n"
          ]
        }
      ]
    },
    {
      "cell_type": "markdown",
      "source": [
        "Indeed, the first set of vectors $[[1,0], [0,1]]$ are independent because they form a basis in $𝑅^2$\n",
        "\n",
        "The second set $[[2,3], [4,6]]$ are dependent because the second vector is a multiple of the first"
      ],
      "metadata": {
        "id": "m0fAyp233eR3"
      }
    },
    {
      "cell_type": "markdown",
      "source": [
        "## 1.2: Elements of Linear Algebra (Orthogonality)"
      ],
      "metadata": {
        "id": "FQvzfVWp3uZ3"
      }
    },
    {
      "cell_type": "markdown",
      "source": [
        "In this section, I create a program that demonstrates the concept of orthogonality"
      ],
      "metadata": {
        "id": "K3FTWLqX4B8M"
      }
    },
    {
      "cell_type": "markdown",
      "source": [
        "First the concept:"
      ],
      "metadata": {
        "id": "HCJN4-574m74"
      }
    },
    {
      "cell_type": "markdown",
      "source": [
        "**Definition 1.2.11**: A list of vectors ${u_1, . . . , u_m}$ is orthonormal if the $u_i$’s are\n",
        "pairwise orthogonal and each has norm 1, that is for all $i$ and all $j ≠ i$,\n",
        "$⟨u_i, u_j⟩ = 0$, and $|u_i|$ = 1.\n",
        "(Sourced from textbook)"
      ],
      "metadata": {
        "id": "JC-XvCAd4oHp"
      }
    },
    {
      "cell_type": "markdown",
      "source": [
        "The following program tests the orthogonality of the following product of vectors:\n",
        "\n",
        "$$\n",
        "[1,2] ∩ [-2,1]\n",
        "$$\n",
        "\n",
        "$$\n",
        "[1,1] ∩ [2,3]\n",
        "$$"
      ],
      "metadata": {
        "id": "O-bmeyBB5wXJ"
      }
    },
    {
      "cell_type": "markdown",
      "source": [
        "Function for testing orthogonality"
      ],
      "metadata": {
        "id": "XsoKLxhJ6LIW"
      }
    },
    {
      "cell_type": "code",
      "source": [
        "def check_orthogonality(v1, v2):\n",
        "    dot_product = np.dot(v1, v2)\n",
        "    if np.isclose(dot_product, 0):\n",
        "        print(f\"The vectors {v1} and {v2} are orthogonal.\")\n",
        "    else:\n",
        "        print(f\"The vectors {v1} and {v2} are not orthogonal.\")"
      ],
      "metadata": {
        "id": "ppyQbM215uva"
      },
      "execution_count": 6,
      "outputs": []
    },
    {
      "cell_type": "markdown",
      "source": [
        "Test $\n",
        "[1,2] ∩ [-2,1]\n",
        "$:"
      ],
      "metadata": {
        "id": "QcTPv1Zj6N8z"
      }
    },
    {
      "cell_type": "code",
      "source": [
        "# Example 1: Orthogonal Vectors\n",
        "vector_a = [1, 2]\n",
        "vector_b = [-2, 1]\n",
        "print(\"Checking orthogonality for first set of vectors:\")\n",
        "check_orthogonality(vector_a, vector_b)\n",
        "print()"
      ],
      "metadata": {
        "colab": {
          "base_uri": "https://localhost:8080/"
        },
        "id": "4pYu32rA6TEK",
        "outputId": "d6a67929-c5bf-49ba-b966-3fa053ce0ece"
      },
      "execution_count": 7,
      "outputs": [
        {
          "output_type": "stream",
          "name": "stdout",
          "text": [
            "Checking orthogonality for first set of vectors:\n",
            "The vectors [1, 2] and [-2, 1] are orthogonal.\n",
            "\n"
          ]
        }
      ]
    },
    {
      "cell_type": "markdown",
      "source": [
        "Test $\n",
        "[1,1] ∩ [2,3]\n",
        "$:"
      ],
      "metadata": {
        "id": "EFsJGtpK6TaS"
      }
    },
    {
      "cell_type": "code",
      "source": [
        "# Example 2: Non-Orthogonal Vectors\n",
        "vector_c = [1, 1]\n",
        "vector_d = [2, 3]\n",
        "print(\"Checking orthogonality for second set of vectors:\")\n",
        "check_orthogonality(vector_c, vector_d)"
      ],
      "metadata": {
        "colab": {
          "base_uri": "https://localhost:8080/"
        },
        "id": "PF3IX8FW6gyF",
        "outputId": "8bbfb71e-8c21-44d5-e4de-32a9bdf32ada"
      },
      "execution_count": 8,
      "outputs": [
        {
          "output_type": "stream",
          "name": "stdout",
          "text": [
            "Checking orthogonality for second set of vectors:\n",
            "The vectors [1, 1] and [2, 3] are not orthogonal.\n"
          ]
        }
      ]
    },
    {
      "cell_type": "markdown",
      "source": [
        "Indeed,\n",
        "\n",
        "\n",
        "Vectors $[1,2]$ and $[-2,1]$ are orthogonal because their dot product is\n",
        "1\n",
        "(\n",
        "−\n",
        "2\n",
        ")\n",
        "+\n",
        "2\n",
        "(\n",
        "1\n",
        ")\n",
        "=\n",
        "0\n",
        "1(−2)+2(1)=0.\n",
        "\n",
        "<bv>\n",
        "\n",
        "Vectors $[1,1]$ and $[2,3]$ are not orthogonal because their dot product is\n",
        "1\n",
        "(\n",
        "2\n",
        ")\n",
        "+\n",
        "1\n",
        "(\n",
        "3\n",
        ")\n",
        "=\n",
        "5\n",
        "1(2)+1(3)=5."
      ],
      "metadata": {
        "id": "WoyJMYCm6rnz"
      }
    },
    {
      "cell_type": "markdown",
      "source": [
        "## 1.3: Linear Regression"
      ],
      "metadata": {
        "id": "nM0Nnn5E4CvQ"
      }
    },
    {
      "cell_type": "markdown",
      "source": [
        "In this section I show code that demonstrates the concept of QR Decomposition to create a linear regression projection of some set of data"
      ],
      "metadata": {
        "id": "YiXIB6jk9LCX"
      }
    },
    {
      "cell_type": "markdown",
      "source": [
        "Overview of the concept:"
      ],
      "metadata": {
        "id": "i-g2S7ZA9V3K"
      }
    },
    {
      "cell_type": "markdown",
      "source": [
        "A common method to solve the linear regression problem\n",
        "$$min_\n",
        "{x \\in R^m} ||A_x − b||$$\n",
        "\n",
        "is to perform a number of QR Decompositions where $A = QR$ to determine an orthogonal projection of some set of data\n"
      ],
      "metadata": {
        "id": "RZK3rTZW8JeE"
      }
    },
    {
      "cell_type": "markdown",
      "source": [
        "For some example set of data points, the following program solves the linear regression model using QR Decomposition:"
      ],
      "metadata": {
        "id": "K-9Md0Dx9b7s"
      }
    },
    {
      "cell_type": "markdown",
      "source": [
        "Imports"
      ],
      "metadata": {
        "id": "eo4jWbGa9m2Z"
      }
    },
    {
      "cell_type": "code",
      "source": [
        "import matplotlib.pyplot as plt"
      ],
      "metadata": {
        "id": "frbRQQav9oMl"
      },
      "execution_count": 9,
      "outputs": []
    },
    {
      "cell_type": "markdown",
      "source": [
        "Linear regression function"
      ],
      "metadata": {
        "id": "bViUbxA19vaV"
      }
    },
    {
      "cell_type": "code",
      "source": [
        "def qr_linear_regression(X, y):\n",
        "    Q, R = np.linalg.qr(X)\n",
        "    beta = np.linalg.solve(R, Q.T @ y)\n",
        "    return beta"
      ],
      "metadata": {
        "id": "BOnXPO9a91HI"
      },
      "execution_count": null,
      "outputs": []
    },
    {
      "cell_type": "markdown",
      "source": [
        "Plot of linear regression model"
      ],
      "metadata": {
        "id": "xaaF50o894Va"
      }
    },
    {
      "cell_type": "code",
      "source": [
        "# Example dataset\n",
        "x = np.array([1, 2, 3, 4, 5])\n",
        "y = np.array([2.2, 2.8, 3.6, 4.5, 5.1])\n",
        "\n",
        "# Prepare the design matrix (adding a column of ones for the intercept term)\n",
        "X = np.column_stack((np.ones_like(x), x))\n",
        "\n",
        "# Compute regression coefficients using QR decomposition\n",
        "beta = qr_linear_regression(X, y)\n",
        "\n",
        "# Generate regression line\n",
        "x_line = np.linspace(min(x), max(x), 100)\n",
        "y_line = beta[0] + beta[1] * x_line\n",
        "\n",
        "# Plot data points and regression line\n",
        "plt.scatter(x, y, color='blue', label='Data points')\n",
        "plt.plot(x_line, y_line, color='red', label='QR Regression Line')\n",
        "plt.xlabel('X')\n",
        "plt.ylabel('Y')\n",
        "plt.legend()\n",
        "plt.title('Linear Regression using QR Decomposition')\n",
        "plt.show()\n"
      ],
      "metadata": {
        "colab": {
          "base_uri": "https://localhost:8080/",
          "height": 472
        },
        "id": "dR0Mmnl49vwt",
        "outputId": "e234f7a0-cb00-47fa-8032-a477363b309d"
      },
      "execution_count": 11,
      "outputs": [
        {
          "output_type": "display_data",
          "data": {
            "text/plain": [
              "<Figure size 640x480 with 1 Axes>"
            ],
            "image/png": "[encoded data removed]"
          },
          "metadata": {}
        }
      ]
    }
  ]
}