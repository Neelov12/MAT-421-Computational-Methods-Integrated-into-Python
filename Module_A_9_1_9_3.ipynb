{
  "nbformat": 4,
  "nbformat_minor": 0,
  "metadata": {
    "colab": {
      "provenance": [],
      "authorship_tag": "ABX9TyPKg914EylXIdXKhmX1SKMR",
      "include_colab_link": true
    },
    "kernelspec": {
      "name": "python3",
      "display_name": "Python 3"
    },
    "language_info": {
      "name": "python"
    }
  },
  "cells": [
    {
      "cell_type": "markdown",
      "metadata": {
        "id": "view-in-github",
        "colab_type": "text"
      },
      "source": [
        "<a href=\"https://colab.research.google.com/github/Neelov12/MAT-421-Computational-Methods-Integrated-into-Python/blob/main/Module_A_9_1_9_3.ipynb\" target=\"_parent\"><img src=\"https://colab.research.google.com/assets/colab-badge.svg\" alt=\"Open In Colab\"/></a>"
      ]
    },
    {
      "cell_type": "markdown",
      "source": [
        "# Module A: Section 9.1, 9.2, 9.3"
      ],
      "metadata": {
        "id": "zrWwGHpl8LEo"
      }
    },
    {
      "cell_type": "markdown",
      "source": [
        "## 9.1: Base N and Binary"
      ],
      "metadata": {
        "id": "ch5m9kI_8SN5"
      }
    },
    {
      "cell_type": "markdown",
      "source": [
        "To demonstrate the concept of Base N and binary numbers, I created a program that asks the user for a decimal number, say the number 5, and the base N number the user would like to convert it into, say 2, which result in the binary number 101."
      ],
      "metadata": {
        "id": "-VJcEBCd933P"
      }
    },
    {
      "cell_type": "markdown",
      "source": [
        "First, here is a general overview of the concept:\n"
      ],
      "metadata": {
        "id": "kWCcB_Xe_iRy"
      }
    },
    {
      "cell_type": "markdown",
      "source": [
        "This is a general equation of a base N number, where N is the base and n is the coefficient for a power of N:\n",
        "<br>\n",
        "\n",
        "$$\n",
        "Number (Base N) = n_0 N^0 + n_1 N^1 + n_2 N^2 + ...  n_i N^i\n",
        "$$\n",
        "\n",
        "\n"
      ],
      "metadata": {
        "id": "NhfFHsXk__Gw"
      }
    },
    {
      "cell_type": "markdown",
      "source": [
        "For example, the decimal counting system, the most common in the world, relies on base 10. Here is an example of the number 121:\n",
        "<br>\n",
        "\n",
        "$$\n",
        "121 (Base 10) = 1 * 10^2 + 2 * 10^1 + 1 * 10^0\n",
        "$$\n",
        "<br>\n",
        "Binary numbers, the counting system of computers, use Base 2 instead of 10. Here is an example of the decimal number 5 in binary:\n",
        "<br>\n",
        "\n",
        "$$\n",
        "5 (Base 10) = 101(Base 2) =  1 * 2^2 + 0 * 2^1 + 1 * 2^0\n",
        "$$"
      ],
      "metadata": {
        "id": "OXEnLS66CMJo"
      }
    },
    {
      "cell_type": "markdown",
      "source": [
        "The following program demonstrates this concept, converting a decimal number into a Base N number as decided by the user. It algorithmically finds the remainder of the decimal number to find the coefficient of power base N. Then, it divides the decimal number by the base number and reassigns the decimal number to the result. The process is repeated until the decimal number is not equal to 0."
      ],
      "metadata": {
        "id": "6xG7-dmr_r7L"
      }
    },
    {
      "cell_type": "markdown",
      "source": [
        "Run the program and give it a try!"
      ],
      "metadata": {
        "id": "fee7xceHEXIE"
      }
    },
    {
      "cell_type": "code",
      "source": [
        "# Function to convert a decimal number to a different base (2 to 16)\n",
        "def convert_to_base(decimal_number, base):\n",
        "    if base < 2 or base > 16:\n",
        "        return \"Base must be between 2 and 16.\"\n",
        "\n",
        "    # Characters for digits beyond 9 (for bases above 10)\n",
        "    digits = \"0123456789ABCDEF\"\n",
        "\n",
        "    # Special case for 0\n",
        "    if decimal_number == 0:\n",
        "        return \"0\"\n",
        "\n",
        "    result = \"\"\n",
        "    while decimal_number > 0:\n",
        "        remainder = decimal_number % base\n",
        "        result = digits[remainder] + result\n",
        "        decimal_number //= base\n",
        "\n",
        "    return result\n",
        "\n",
        "# Asking the user for input\n",
        "decimal_number = int(input(\"Enter a decimal number: \"))\n",
        "base = int(input(\"Enter the base (2 to 16): \"))\n",
        "\n",
        "# Converting and displaying the result\n",
        "converted_number = convert_to_base(decimal_number, base)\n",
        "print(f\"The number {decimal_number} in base {base} is: {converted_number}\")"
      ],
      "metadata": {
        "colab": {
          "base_uri": "https://localhost:8080/"
        },
        "id": "SwTxJtxZ9Qc3",
        "outputId": "619cab68-7c3d-48ab-c8fd-59a9af1c4843"
      },
      "execution_count": 4,
      "outputs": [
        {
          "output_type": "stream",
          "name": "stdout",
          "text": [
            "Enter a decimal number: 5\n",
            "Enter the base (2 to 16): 2\n",
            "The number 5 in base 2 is: 101\n"
          ]
        }
      ]
    },
    {
      "cell_type": "markdown",
      "source": [
        "## 9.2: Floating Point Numbers"
      ],
      "metadata": {
        "id": "zpDekxIDEbrK"
      }
    },
    {
      "cell_type": "markdown",
      "source": [
        "To demonstrate the concept of floating point numbers, I write a program that will convert an IEEE 754 double precision float number into its bitwise representation."
      ],
      "metadata": {
        "id": "ZYmg6ts4F0-C"
      }
    },
    {
      "cell_type": "markdown",
      "source": [
        "First, some overview:"
      ],
      "metadata": {
        "id": "holK93RWHiJO"
      }
    },
    {
      "cell_type": "markdown",
      "source": [
        "The equation for a 64 bit representation of an IEEE 754 double precision float in python is the following\n",
        "<br>\n",
        "\n",
        "$$\n",
        "n=(−1)^s\n",
        " × 2^{e−1023}\n",
        " ×(1+f)\n",
        "$$\n",
        "\n",
        "Where s is the sign indicator, e is the exponent indicator with a bias of 1023, and f is the fraction indicator.\n",
        "<br>\n",
        "\n",
        "For example, the float number -12.0 is represented by the following bits:\n",
        "\n",
        "$$\n",
        "1$$ $$10000000010$$ $$1000000000000000000000000000000000000000000000000000\n",
        "$$\n",
        "\n",
        "Since the sign indicator is 1, the exponent indicator is 10000000010, which equates to 1020 (Base 10), and the fraction equations to 0.5.\n",
        "\n"
      ],
      "metadata": {
        "id": "MncsL7I8HJw7"
      }
    },
    {
      "cell_type": "markdown",
      "source": [
        "The following program parses the user inputed base 10 number then allocates the appropriate amount of bits to be used to the represent the IEEE 754 float value. Using python's imported library 'struct', it converts the value down into its bitwise representation. Give it a try!"
      ],
      "metadata": {
        "id": "HQ3Lg2WPI0Lf"
      }
    },
    {
      "cell_type": "code",
      "source": [
        "import struct\n",
        "\n",
        "def float_to_ieee754(double_value):\n",
        "    # Pack the float value as a 64-bit binary\n",
        "    packed = struct.pack('>d', double_value)\n",
        "    # Unpack it as an integer to get the raw bitwise representation\n",
        "    unpacked = struct.unpack('>Q', packed)[0]\n",
        "\n",
        "    # Extract the sign, exponent, and fraction parts from the 64-bit integer\n",
        "    sign = (unpacked >> 63) & 1\n",
        "    exponent = (unpacked >> 52) & 0x7FF  # 11 bits for exponent\n",
        "    fraction = unpacked & 0xFFFFFFFFFFFFF  # 52 bits for fraction\n",
        "\n",
        "    # Format the sign, exponent, and fraction as binary strings\n",
        "    sign_bit = f\"{sign:01b}\"\n",
        "    exponent_bits = f\"{exponent:011b}\"\n",
        "    fraction_bits = f\"{fraction:052b}\"\n",
        "\n",
        "    # IEEE 754 representation as a single string\n",
        "    ieee754_bits = sign_bit + exponent_bits + fraction_bits\n",
        "    return ieee754_bits\n",
        "\n",
        "# Input: IEEE 754 double precision float number\n",
        "user_input = float(input(\"Enter a double precision float number (e.g., -12.0): \"))\n",
        "\n",
        "# Convert to IEEE 754 bit representation\n",
        "bit_representation = float_to_ieee754(user_input)\n",
        "\n",
        "# Display the result\n",
        "print(f\"The IEEE 754 bit representation of {user_input} is:\")\n",
        "print(bit_representation)\n"
      ],
      "metadata": {
        "colab": {
          "base_uri": "https://localhost:8080/"
        },
        "id": "jlX7exozHA1O",
        "outputId": "67881cb5-ab7a-4298-cf5e-acee4daacf19"
      },
      "execution_count": 6,
      "outputs": [
        {
          "output_type": "stream",
          "name": "stdout",
          "text": [
            "Enter a double precision float number (e.g., -12.0): -15.0\n",
            "The IEEE 754 bit representation of -15.0 is:\n",
            "1100000000101110000000000000000000000000000000000000000000000000\n"
          ]
        }
      ]
    },
    {
      "cell_type": "markdown",
      "source": [
        "## 9.3: Round off Errors"
      ],
      "metadata": {
        "id": "um5bcjm7JZUy"
      }
    },
    {
      "cell_type": "markdown",
      "source": [
        "In this section, I write a program that demonstrates the concept of float value round off errors in python."
      ],
      "metadata": {
        "id": "eucqEGTMV8-f"
      }
    },
    {
      "cell_type": "markdown",
      "source": [
        "First, an overview of the concept:"
      ],
      "metadata": {
        "id": "g8dbJ1DMWC8N"
      }
    },
    {
      "cell_type": "markdown",
      "source": [
        "Since float values are represented by bytes of a base 2 fraction, float numbers do not always represent precise numbers and sometimes have **round off errors**. This makes float values an approximate representation of base 10 numbers but not an exact figure.  "
      ],
      "metadata": {
        "id": "nnHQZwBoWGAv"
      }
    },
    {
      "cell_type": "markdown",
      "source": [
        "The following segments of code represent this idea."
      ],
      "metadata": {
        "id": "6G8vbsyaWsoE"
      }
    },
    {
      "cell_type": "markdown",
      "source": [
        "### Addition of a large float value and a small one:"
      ],
      "metadata": {
        "id": "ZG48-K-kXG25"
      }
    },
    {
      "cell_type": "markdown",
      "source": [
        "Due to loss of precision, the summation of a large and small float number results in just the large float number"
      ],
      "metadata": {
        "id": "B9wOnY-pXgxN"
      }
    },
    {
      "cell_type": "code",
      "source": [
        "# Example 1: Adding small numbers\n",
        "a = 1.0e17  # A large number\n",
        "b = 1.0e-17 # A very small number\n",
        "\n",
        "# Adding the numbers\n",
        "sum_ab = a + b\n",
        "print(f\"Large number: {a}\")\n",
        "print(f\"Small number: {b}\")\n",
        "print(f\"Sum of the large and small numbers: {sum_ab}\")"
      ],
      "metadata": {
        "colab": {
          "base_uri": "https://localhost:8080/"
        },
        "id": "EP9l2qO7Wveb",
        "outputId": "3418c579-bf44-49fa-fd01-e53caedd587d"
      },
      "execution_count": 9,
      "outputs": [
        {
          "output_type": "stream",
          "name": "stdout",
          "text": [
            "Large number: 1e+17\n",
            "Small number: 1e-17\n",
            "Sum of the large and small numbers: 1e+17\n"
          ]
        }
      ]
    },
    {
      "cell_type": "markdown",
      "source": [
        "### Accumulation of errors:"
      ],
      "metadata": {
        "id": "vHvzTRpiXsOk"
      }
    },
    {
      "cell_type": "markdown",
      "source": [
        "The following code demonstrates the accumulation of errors generated by iteratievly adding a float value by a fraction. Notice how the result is not an expected 100000.0"
      ],
      "metadata": {
        "id": "WTaIv_Y8X2_q"
      }
    },
    {
      "cell_type": "code",
      "source": [
        "sum_fractions = 0.0\n",
        "for i in range(1000000):\n",
        "    sum_fractions += 0.1\n",
        "\n",
        "print(f\"Sum of 0.1 added a million times: {sum_fractions}\")"
      ],
      "metadata": {
        "colab": {
          "base_uri": "https://localhost:8080/"
        },
        "id": "w-Gybb3zYCOa",
        "outputId": "1f310e49-189d-450c-cc58-59af2c341bd8"
      },
      "execution_count": 10,
      "outputs": [
        {
          "output_type": "stream",
          "name": "stdout",
          "text": [
            "Sum of 0.1 added a million times: 100000.00000133288\n"
          ]
        }
      ]
    },
    {
      "cell_type": "markdown",
      "source": [
        "### Errors in float value comparisons"
      ],
      "metadata": {
        "id": "SVDJZdHpYRPU"
      }
    },
    {
      "cell_type": "markdown",
      "source": [
        "Due to precision loss, comparisons involving float values can lead to unexpected results. For example, the following code results in a false value when intuitively we would expext a true result"
      ],
      "metadata": {
        "id": "8m6xuNoRYVUk"
      }
    },
    {
      "cell_type": "code",
      "source": [
        "float_1 = 0.1 + 0.1 + 0.1\n",
        "float_2 = 0.3\n",
        "print(f\"Is 0.1 + 0.1 + 0.1 equal to 0.3? {float_1 == float_2}\")"
      ],
      "metadata": {
        "colab": {
          "base_uri": "https://localhost:8080/"
        },
        "id": "mSTZu4QmYduj",
        "outputId": "97f79baa-a27d-4f47-8ad9-095986e6a5a9"
      },
      "execution_count": 11,
      "outputs": [
        {
          "output_type": "stream",
          "name": "stdout",
          "text": [
            "Is 0.1 + 0.1 + 0.1 equal to 0.3? False\n"
          ]
        }
      ]
    }
  ]
}